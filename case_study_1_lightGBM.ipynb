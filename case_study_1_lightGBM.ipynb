{
 "cells": [
  {
   "cell_type": "code",
   "execution_count": 1,
   "metadata": {},
   "outputs": [],
   "source": [
    "import lightgbm as lgb\n",
    "import numpy as np\n",
    "import pandas as pd\n",
    "import matplotlib.pyplot as plt\n",
    "import xgboost as xgb\n",
    "%matplotlib inline\n",
    "try:\n",
    "    # To enable interactive mode you should install ipywidgets\n",
    "    # https://github.com/jupyter-widgets/ipywidgets\n",
    "    from ipywidgets import interact, SelectMultiple\n",
    "    INTERACTIVE = True\n",
    "except ImportError:\n",
    "    INTERACTIVE = False"
   ]
  },
  {
   "cell_type": "code",
   "execution_count": 2,
   "metadata": {},
   "outputs": [],
   "source": [
    "def algorithm_pipeline(X_train_data, X_test_data, y_train_data, y_test_data, \n",
    "                       model, param_grid, cv=10, scoring_fit='neg_mean_squared_error',\n",
    "                       do_probabilities = False):\n",
    "    gs = GridSearchCV(\n",
    "        estimator=model,\n",
    "        param_grid=param_grid, \n",
    "        cv=cv, \n",
    "        n_jobs=-1, \n",
    "        scoring=scoring_fit,\n",
    "        verbose=2\n",
    "    )\n",
    "    fitted_model = gs.fit(X_train_data, y_train_data)\n",
    "    \n",
    "    if do_probabilities:\n",
    "        pred = fitted_model.predict_proba(X_test_data)\n",
    "    else:\n",
    "        pred = fitted_model.predict(X_test_data)\n",
    "    \n",
    "    return fitted_model, pred"
   ]
  },
  {
   "cell_type": "code",
   "execution_count": 3,
   "metadata": {},
   "outputs": [],
   "source": [
    "ele = pd.read_csv(\"data_ne.csv\")\n",
    "ad = pd.read_csv(\"ssc2020_annual_demand.csv\")"
   ]
  },
  {
   "cell_type": "code",
   "execution_count": 4,
   "metadata": {},
   "outputs": [],
   "source": [
    "ad_1 = ad.drop(\"Year\",axis = 1)"
   ]
  },
  {
   "cell_type": "code",
   "execution_count": 5,
   "metadata": {},
   "outputs": [],
   "source": [
    "annual_target = ad_1.sum(axis=1)"
   ]
  },
  {
   "cell_type": "code",
   "execution_count": 6,
   "metadata": {},
   "outputs": [],
   "source": [
    "annual_total_0 = ele[[\"Usage_ma\",\"Year\"]].groupby(\"Year\").sum()*0.0000036"
   ]
  },
  {
   "cell_type": "code",
   "execution_count": 7,
   "metadata": {},
   "outputs": [],
   "source": [
    "annual_total = annual_total_0.reset_index()[\"Usage_ma\"]"
   ]
  },
  {
   "cell_type": "code",
   "execution_count": 8,
   "metadata": {},
   "outputs": [],
   "source": [
    "## True discrepancy\n",
    "True_dis = annual_total - annual_target"
   ]
  },
  {
   "cell_type": "code",
   "execution_count": 9,
   "metadata": {},
   "outputs": [
    {
     "data": {
      "text/plain": [
       "0     87.736925\n",
       "1     90.673092\n",
       "2     97.097832\n",
       "3     71.695412\n",
       "4     78.640293\n",
       "5     46.833283\n",
       "6     46.496174\n",
       "7     28.401356\n",
       "8     12.994808\n",
       "9     19.435770\n",
       "10     7.852422\n",
       "11     8.293770\n",
       "12    -3.557592\n",
       "13     8.263089\n",
       "dtype: float64"
      ]
     },
     "execution_count": 9,
     "metadata": {},
     "output_type": "execute_result"
    }
   ],
   "source": [
    "True_dis"
   ]
  },
  {
   "cell_type": "code",
   "execution_count": 10,
   "metadata": {},
   "outputs": [],
   "source": [
    "# unique year\n",
    "uy = np.unique(ele[\"Year\"])"
   ]
  },
  {
   "cell_type": "code",
   "execution_count": 11,
   "metadata": {},
   "outputs": [],
   "source": [
    "ele_0 = ele"
   ]
  },
  {
   "cell_type": "code",
   "execution_count": 12,
   "metadata": {},
   "outputs": [],
   "source": [
    "for i in range(len(uy)):\n",
    "    ele_0.loc[ele[\"Year\"] == uy[i],\"Usage_ma\"] -= True_dis[i]/(ele_0.loc[ele_0[\"Year\"] == uy[i]].shape[0]*0.0000036)"
   ]
  },
  {
   "cell_type": "code",
   "execution_count": 13,
   "metadata": {},
   "outputs": [],
   "source": [
    "annual_total_1 = ele_0[[\"Usage_ma\",\"Year\"]].groupby(\"Year\").sum()*0.0000036"
   ]
  },
  {
   "cell_type": "code",
   "execution_count": 14,
   "metadata": {},
   "outputs": [],
   "source": [
    "annual_total_1 = annual_total_1.reset_index()[\"Usage_ma\"]"
   ]
  },
  {
   "cell_type": "code",
   "execution_count": 15,
   "metadata": {
    "scrolled": true
   },
   "outputs": [
    {
     "data": {
      "text/plain": [
       "0     460.1\n",
       "1     461.7\n",
       "2     468.0\n",
       "3     472.1\n",
       "4     469.3\n",
       "5     488.4\n",
       "6     454.5\n",
       "7     483.5\n",
       "8     496.3\n",
       "9     489.2\n",
       "10    498.8\n",
       "11    495.0\n",
       "12    496.8\n",
       "13    484.9\n",
       "Name: Usage_ma, dtype: float64"
      ]
     },
     "execution_count": 15,
     "metadata": {},
     "output_type": "execute_result"
    }
   ],
   "source": [
    "annual_total_1"
   ]
  },
  {
   "cell_type": "markdown",
   "metadata": {},
   "source": [
    "# LightGBM Implementation"
   ]
  },
  {
   "cell_type": "code",
   "execution_count": 16,
   "metadata": {},
   "outputs": [],
   "source": [
    "ele_0 = ele_0.drop(\"Unnamed: 0\",axis=1)\n",
    "eval_arr = []"
   ]
  },
  {
   "cell_type": "code",
   "execution_count": 17,
   "metadata": {},
   "outputs": [],
   "source": [
    "ele_0['lag1'] = ele_0['Usage_ma'].shift(1)"
   ]
  },
  {
   "cell_type": "code",
   "execution_count": 18,
   "metadata": {},
   "outputs": [
    {
     "data": {
      "text/html": [
       "<div>\n",
       "<style scoped>\n",
       "    .dataframe tbody tr th:only-of-type {\n",
       "        vertical-align: middle;\n",
       "    }\n",
       "\n",
       "    .dataframe tbody tr th {\n",
       "        vertical-align: top;\n",
       "    }\n",
       "\n",
       "    .dataframe thead th {\n",
       "        text-align: right;\n",
       "    }\n",
       "</style>\n",
       "<table border=\"1\" class=\"dataframe\">\n",
       "  <thead>\n",
       "    <tr style=\"text-align: right;\">\n",
       "      <th></th>\n",
       "      <th>Date</th>\n",
       "      <th>Hour</th>\n",
       "      <th>Year</th>\n",
       "      <th>Month</th>\n",
       "      <th>time</th>\n",
       "      <th>Usage_ma</th>\n",
       "      <th>precipitation</th>\n",
       "      <th>temperature</th>\n",
       "      <th>irradiance_surface</th>\n",
       "      <th>irradiance_toa</th>\n",
       "      <th>snowfall</th>\n",
       "      <th>snow_depth</th>\n",
       "      <th>cloud_cover</th>\n",
       "      <th>air_density</th>\n",
       "      <th>if_holiday</th>\n",
       "      <th>weekend</th>\n",
       "      <th>Max</th>\n",
       "      <th>Min</th>\n",
       "      <th>sta_dev</th>\n",
       "      <th>lag1</th>\n",
       "    </tr>\n",
       "  </thead>\n",
       "  <tbody>\n",
       "    <tr>\n",
       "      <th>0</th>\n",
       "      <td>2003-01-01</td>\n",
       "      <td>1</td>\n",
       "      <td>2003</td>\n",
       "      <td>1</td>\n",
       "      <td>2003-01-01 01:00:00</td>\n",
       "      <td>11962.880370</td>\n",
       "      <td>0.0100</td>\n",
       "      <td>-1.720</td>\n",
       "      <td>0.0000</td>\n",
       "      <td>0.0000</td>\n",
       "      <td>0.0011</td>\n",
       "      <td>17.4309</td>\n",
       "      <td>0.3196</td>\n",
       "      <td>1.2612</td>\n",
       "      <td>True</td>\n",
       "      <td>False</td>\n",
       "      <td>18594.0</td>\n",
       "      <td>13236.0</td>\n",
       "      <td>1789.887629</td>\n",
       "      <td>NaN</td>\n",
       "    </tr>\n",
       "    <tr>\n",
       "      <th>1</th>\n",
       "      <td>2003-01-01</td>\n",
       "      <td>2</td>\n",
       "      <td>2003</td>\n",
       "      <td>1</td>\n",
       "      <td>2003-01-01 02:00:00</td>\n",
       "      <td>11497.880370</td>\n",
       "      <td>0.0022</td>\n",
       "      <td>-2.045</td>\n",
       "      <td>0.0000</td>\n",
       "      <td>0.0000</td>\n",
       "      <td>0.0010</td>\n",
       "      <td>17.4307</td>\n",
       "      <td>0.3167</td>\n",
       "      <td>1.2644</td>\n",
       "      <td>True</td>\n",
       "      <td>False</td>\n",
       "      <td>18594.0</td>\n",
       "      <td>13236.0</td>\n",
       "      <td>1789.887629</td>\n",
       "      <td>11962.880370</td>\n",
       "    </tr>\n",
       "    <tr>\n",
       "      <th>2</th>\n",
       "      <td>2003-01-01</td>\n",
       "      <td>3</td>\n",
       "      <td>2003</td>\n",
       "      <td>1</td>\n",
       "      <td>2003-01-01 03:00:00</td>\n",
       "      <td>11038.880370</td>\n",
       "      <td>0.0014</td>\n",
       "      <td>-2.402</td>\n",
       "      <td>0.0000</td>\n",
       "      <td>0.0000</td>\n",
       "      <td>0.0009</td>\n",
       "      <td>17.4304</td>\n",
       "      <td>0.2958</td>\n",
       "      <td>1.2669</td>\n",
       "      <td>True</td>\n",
       "      <td>False</td>\n",
       "      <td>18594.0</td>\n",
       "      <td>13236.0</td>\n",
       "      <td>1789.887629</td>\n",
       "      <td>11497.880370</td>\n",
       "    </tr>\n",
       "    <tr>\n",
       "      <th>3</th>\n",
       "      <td>2003-01-01</td>\n",
       "      <td>4</td>\n",
       "      <td>2003</td>\n",
       "      <td>1</td>\n",
       "      <td>2003-01-01 04:00:00</td>\n",
       "      <td>10456.880370</td>\n",
       "      <td>0.0013</td>\n",
       "      <td>-2.732</td>\n",
       "      <td>0.0000</td>\n",
       "      <td>0.0000</td>\n",
       "      <td>0.0008</td>\n",
       "      <td>17.4302</td>\n",
       "      <td>0.3745</td>\n",
       "      <td>1.2695</td>\n",
       "      <td>True</td>\n",
       "      <td>False</td>\n",
       "      <td>18594.0</td>\n",
       "      <td>13236.0</td>\n",
       "      <td>1789.887629</td>\n",
       "      <td>11038.880370</td>\n",
       "    </tr>\n",
       "    <tr>\n",
       "      <th>4</th>\n",
       "      <td>2003-01-01</td>\n",
       "      <td>5</td>\n",
       "      <td>2003</td>\n",
       "      <td>1</td>\n",
       "      <td>2003-01-01 05:00:00</td>\n",
       "      <td>10453.880370</td>\n",
       "      <td>0.0011</td>\n",
       "      <td>-3.083</td>\n",
       "      <td>0.0000</td>\n",
       "      <td>0.0000</td>\n",
       "      <td>0.0009</td>\n",
       "      <td>17.4300</td>\n",
       "      <td>0.6073</td>\n",
       "      <td>1.2724</td>\n",
       "      <td>True</td>\n",
       "      <td>False</td>\n",
       "      <td>18594.0</td>\n",
       "      <td>13236.0</td>\n",
       "      <td>1789.887629</td>\n",
       "      <td>10456.880370</td>\n",
       "    </tr>\n",
       "    <tr>\n",
       "      <th>...</th>\n",
       "      <td>...</td>\n",
       "      <td>...</td>\n",
       "      <td>...</td>\n",
       "      <td>...</td>\n",
       "      <td>...</td>\n",
       "      <td>...</td>\n",
       "      <td>...</td>\n",
       "      <td>...</td>\n",
       "      <td>...</td>\n",
       "      <td>...</td>\n",
       "      <td>...</td>\n",
       "      <td>...</td>\n",
       "      <td>...</td>\n",
       "      <td>...</td>\n",
       "      <td>...</td>\n",
       "      <td>...</td>\n",
       "      <td>...</td>\n",
       "      <td>...</td>\n",
       "      <td>...</td>\n",
       "      <td>...</td>\n",
       "    </tr>\n",
       "    <tr>\n",
       "      <th>122731</th>\n",
       "      <td>2016-12-31</td>\n",
       "      <td>20</td>\n",
       "      <td>2016</td>\n",
       "      <td>12</td>\n",
       "      <td>2016-12-31 20:00:00</td>\n",
       "      <td>15998.695064</td>\n",
       "      <td>0.1642</td>\n",
       "      <td>0.551</td>\n",
       "      <td>65.7947</td>\n",
       "      <td>394.8765</td>\n",
       "      <td>0.0845</td>\n",
       "      <td>16.9569</td>\n",
       "      <td>0.9761</td>\n",
       "      <td>1.2408</td>\n",
       "      <td>False</td>\n",
       "      <td>True</td>\n",
       "      <td>17340.0</td>\n",
       "      <td>12861.0</td>\n",
       "      <td>1318.496000</td>\n",
       "      <td>16659.695064</td>\n",
       "    </tr>\n",
       "    <tr>\n",
       "      <th>122732</th>\n",
       "      <td>2016-12-31</td>\n",
       "      <td>21</td>\n",
       "      <td>2016</td>\n",
       "      <td>12</td>\n",
       "      <td>2016-12-31 21:00:00</td>\n",
       "      <td>15396.695064</td>\n",
       "      <td>0.1857</td>\n",
       "      <td>0.455</td>\n",
       "      <td>29.8108</td>\n",
       "      <td>238.0150</td>\n",
       "      <td>0.0863</td>\n",
       "      <td>16.9597</td>\n",
       "      <td>0.9729</td>\n",
       "      <td>1.2407</td>\n",
       "      <td>False</td>\n",
       "      <td>True</td>\n",
       "      <td>17340.0</td>\n",
       "      <td>12861.0</td>\n",
       "      <td>1318.496000</td>\n",
       "      <td>15998.695064</td>\n",
       "    </tr>\n",
       "    <tr>\n",
       "      <th>122733</th>\n",
       "      <td>2016-12-31</td>\n",
       "      <td>22</td>\n",
       "      <td>2016</td>\n",
       "      <td>12</td>\n",
       "      <td>2016-12-31 22:00:00</td>\n",
       "      <td>14933.695064</td>\n",
       "      <td>0.2322</td>\n",
       "      <td>0.180</td>\n",
       "      <td>4.8503</td>\n",
       "      <td>52.9368</td>\n",
       "      <td>0.1055</td>\n",
       "      <td>16.9680</td>\n",
       "      <td>0.9628</td>\n",
       "      <td>1.2417</td>\n",
       "      <td>False</td>\n",
       "      <td>True</td>\n",
       "      <td>17340.0</td>\n",
       "      <td>12861.0</td>\n",
       "      <td>1318.496000</td>\n",
       "      <td>15396.695064</td>\n",
       "    </tr>\n",
       "    <tr>\n",
       "      <th>122734</th>\n",
       "      <td>2016-12-31</td>\n",
       "      <td>23</td>\n",
       "      <td>2016</td>\n",
       "      <td>12</td>\n",
       "      <td>2016-12-31 23:00:00</td>\n",
       "      <td>14496.695064</td>\n",
       "      <td>0.2462</td>\n",
       "      <td>-0.047</td>\n",
       "      <td>0.0047</td>\n",
       "      <td>0.0378</td>\n",
       "      <td>0.1173</td>\n",
       "      <td>16.9865</td>\n",
       "      <td>0.9353</td>\n",
       "      <td>1.2430</td>\n",
       "      <td>False</td>\n",
       "      <td>True</td>\n",
       "      <td>17340.0</td>\n",
       "      <td>12861.0</td>\n",
       "      <td>1318.496000</td>\n",
       "      <td>14933.695064</td>\n",
       "    </tr>\n",
       "    <tr>\n",
       "      <th>122735</th>\n",
       "      <td>2016-12-31</td>\n",
       "      <td>24</td>\n",
       "      <td>2016</td>\n",
       "      <td>12</td>\n",
       "      <td>2017-01-01 00:00:00</td>\n",
       "      <td>13891.695064</td>\n",
       "      <td>0.2163</td>\n",
       "      <td>-0.166</td>\n",
       "      <td>0.0000</td>\n",
       "      <td>0.0000</td>\n",
       "      <td>0.1002</td>\n",
       "      <td>17.0087</td>\n",
       "      <td>0.8799</td>\n",
       "      <td>1.2441</td>\n",
       "      <td>False</td>\n",
       "      <td>True</td>\n",
       "      <td>17340.0</td>\n",
       "      <td>12861.0</td>\n",
       "      <td>1318.496000</td>\n",
       "      <td>14496.695064</td>\n",
       "    </tr>\n",
       "  </tbody>\n",
       "</table>\n",
       "<p>122736 rows × 20 columns</p>\n",
       "</div>"
      ],
      "text/plain": [
       "              Date  Hour  Year  Month                 time      Usage_ma  \\\n",
       "0       2003-01-01     1  2003      1  2003-01-01 01:00:00  11962.880370   \n",
       "1       2003-01-01     2  2003      1  2003-01-01 02:00:00  11497.880370   \n",
       "2       2003-01-01     3  2003      1  2003-01-01 03:00:00  11038.880370   \n",
       "3       2003-01-01     4  2003      1  2003-01-01 04:00:00  10456.880370   \n",
       "4       2003-01-01     5  2003      1  2003-01-01 05:00:00  10453.880370   \n",
       "...            ...   ...   ...    ...                  ...           ...   \n",
       "122731  2016-12-31    20  2016     12  2016-12-31 20:00:00  15998.695064   \n",
       "122732  2016-12-31    21  2016     12  2016-12-31 21:00:00  15396.695064   \n",
       "122733  2016-12-31    22  2016     12  2016-12-31 22:00:00  14933.695064   \n",
       "122734  2016-12-31    23  2016     12  2016-12-31 23:00:00  14496.695064   \n",
       "122735  2016-12-31    24  2016     12  2017-01-01 00:00:00  13891.695064   \n",
       "\n",
       "        precipitation  temperature  irradiance_surface  irradiance_toa  \\\n",
       "0              0.0100       -1.720              0.0000          0.0000   \n",
       "1              0.0022       -2.045              0.0000          0.0000   \n",
       "2              0.0014       -2.402              0.0000          0.0000   \n",
       "3              0.0013       -2.732              0.0000          0.0000   \n",
       "4              0.0011       -3.083              0.0000          0.0000   \n",
       "...               ...          ...                 ...             ...   \n",
       "122731         0.1642        0.551             65.7947        394.8765   \n",
       "122732         0.1857        0.455             29.8108        238.0150   \n",
       "122733         0.2322        0.180              4.8503         52.9368   \n",
       "122734         0.2462       -0.047              0.0047          0.0378   \n",
       "122735         0.2163       -0.166              0.0000          0.0000   \n",
       "\n",
       "        snowfall  snow_depth  cloud_cover  air_density  if_holiday  weekend  \\\n",
       "0         0.0011     17.4309       0.3196       1.2612        True    False   \n",
       "1         0.0010     17.4307       0.3167       1.2644        True    False   \n",
       "2         0.0009     17.4304       0.2958       1.2669        True    False   \n",
       "3         0.0008     17.4302       0.3745       1.2695        True    False   \n",
       "4         0.0009     17.4300       0.6073       1.2724        True    False   \n",
       "...          ...         ...          ...          ...         ...      ...   \n",
       "122731    0.0845     16.9569       0.9761       1.2408       False     True   \n",
       "122732    0.0863     16.9597       0.9729       1.2407       False     True   \n",
       "122733    0.1055     16.9680       0.9628       1.2417       False     True   \n",
       "122734    0.1173     16.9865       0.9353       1.2430       False     True   \n",
       "122735    0.1002     17.0087       0.8799       1.2441       False     True   \n",
       "\n",
       "            Max      Min      sta_dev          lag1  \n",
       "0       18594.0  13236.0  1789.887629           NaN  \n",
       "1       18594.0  13236.0  1789.887629  11962.880370  \n",
       "2       18594.0  13236.0  1789.887629  11497.880370  \n",
       "3       18594.0  13236.0  1789.887629  11038.880370  \n",
       "4       18594.0  13236.0  1789.887629  10456.880370  \n",
       "...         ...      ...          ...           ...  \n",
       "122731  17340.0  12861.0  1318.496000  16659.695064  \n",
       "122732  17340.0  12861.0  1318.496000  15998.695064  \n",
       "122733  17340.0  12861.0  1318.496000  15396.695064  \n",
       "122734  17340.0  12861.0  1318.496000  14933.695064  \n",
       "122735  17340.0  12861.0  1318.496000  14496.695064  \n",
       "\n",
       "[122736 rows x 20 columns]"
      ]
     },
     "execution_count": 18,
     "metadata": {},
     "output_type": "execute_result"
    }
   ],
   "source": [
    "ele_0"
   ]
  },
  {
   "cell_type": "code",
   "execution_count": 19,
   "metadata": {},
   "outputs": [],
   "source": [
    "## lag extraction\n",
    "ele_0['lag1'] = ele_0['Usage_ma'].shift(1)\n",
    "ele_0['lag2'] = ele_0['Usage_ma'].shift(2)\n",
    "\n",
    "ele_2 = ele_0.loc[:,[\"Year\",\"Month\",\"weekend\",\"Hour\",\"lag1\",\"lag2\",\"temperature\",\"Usage_ma\"]]"
   ]
  },
  {
   "cell_type": "code",
   "execution_count": 20,
   "metadata": {},
   "outputs": [],
   "source": [
    "index_1 = [24*i for i in range(1,6,1)]"
   ]
  },
  {
   "cell_type": "code",
   "execution_count": 21,
   "metadata": {},
   "outputs": [
    {
     "data": {
      "text/plain": [
       "[24, 48, 72, 96, 120]"
      ]
     },
     "execution_count": 21,
     "metadata": {},
     "output_type": "execute_result"
    }
   ],
   "source": [
    "index_1"
   ]
  },
  {
   "cell_type": "code",
   "execution_count": 22,
   "metadata": {},
   "outputs": [],
   "source": [
    "lag1_impute = ele_2.iloc[index_1][\"lag1\"].mean()"
   ]
  },
  {
   "cell_type": "code",
   "execution_count": 23,
   "metadata": {},
   "outputs": [],
   "source": [
    "lag2_impute = ele_2.iloc[index_1][\"lag2\"].mean()"
   ]
  },
  {
   "cell_type": "code",
   "execution_count": 24,
   "metadata": {},
   "outputs": [],
   "source": [
    "## time series imputation by auto regression\n",
    "ele_2.loc[0,\"lag1\"] = lag1_impute\n",
    "ele_2.loc[0,\"lag2\"] = lag2_impute\n",
    "ele_2.loc[1,\"lag2\"] = lag1_impute"
   ]
  },
  {
   "cell_type": "code",
   "execution_count": 25,
   "metadata": {},
   "outputs": [
    {
     "data": {
      "text/html": [
       "<div>\n",
       "<style scoped>\n",
       "    .dataframe tbody tr th:only-of-type {\n",
       "        vertical-align: middle;\n",
       "    }\n",
       "\n",
       "    .dataframe tbody tr th {\n",
       "        vertical-align: top;\n",
       "    }\n",
       "\n",
       "    .dataframe thead th {\n",
       "        text-align: right;\n",
       "    }\n",
       "</style>\n",
       "<table border=\"1\" class=\"dataframe\">\n",
       "  <thead>\n",
       "    <tr style=\"text-align: right;\">\n",
       "      <th></th>\n",
       "      <th>Year</th>\n",
       "      <th>Month</th>\n",
       "      <th>weekend</th>\n",
       "      <th>Hour</th>\n",
       "      <th>lag1</th>\n",
       "      <th>lag2</th>\n",
       "      <th>temperature</th>\n",
       "      <th>Usage_ma</th>\n",
       "    </tr>\n",
       "  </thead>\n",
       "  <tbody>\n",
       "    <tr>\n",
       "      <th>0</th>\n",
       "      <td>2003</td>\n",
       "      <td>1</td>\n",
       "      <td>False</td>\n",
       "      <td>1</td>\n",
       "      <td>14083.88037</td>\n",
       "      <td>15180.48037</td>\n",
       "      <td>-1.720</td>\n",
       "      <td>11962.88037</td>\n",
       "    </tr>\n",
       "    <tr>\n",
       "      <th>1</th>\n",
       "      <td>2003</td>\n",
       "      <td>1</td>\n",
       "      <td>False</td>\n",
       "      <td>2</td>\n",
       "      <td>11962.88037</td>\n",
       "      <td>14083.88037</td>\n",
       "      <td>-2.045</td>\n",
       "      <td>11497.88037</td>\n",
       "    </tr>\n",
       "    <tr>\n",
       "      <th>2</th>\n",
       "      <td>2003</td>\n",
       "      <td>1</td>\n",
       "      <td>False</td>\n",
       "      <td>3</td>\n",
       "      <td>11497.88037</td>\n",
       "      <td>11962.88037</td>\n",
       "      <td>-2.402</td>\n",
       "      <td>11038.88037</td>\n",
       "    </tr>\n",
       "    <tr>\n",
       "      <th>3</th>\n",
       "      <td>2003</td>\n",
       "      <td>1</td>\n",
       "      <td>False</td>\n",
       "      <td>4</td>\n",
       "      <td>11038.88037</td>\n",
       "      <td>11497.88037</td>\n",
       "      <td>-2.732</td>\n",
       "      <td>10456.88037</td>\n",
       "    </tr>\n",
       "    <tr>\n",
       "      <th>4</th>\n",
       "      <td>2003</td>\n",
       "      <td>1</td>\n",
       "      <td>False</td>\n",
       "      <td>5</td>\n",
       "      <td>10456.88037</td>\n",
       "      <td>11038.88037</td>\n",
       "      <td>-3.083</td>\n",
       "      <td>10453.88037</td>\n",
       "    </tr>\n",
       "  </tbody>\n",
       "</table>\n",
       "</div>"
      ],
      "text/plain": [
       "   Year  Month  weekend  Hour         lag1         lag2  temperature  \\\n",
       "0  2003      1    False     1  14083.88037  15180.48037       -1.720   \n",
       "1  2003      1    False     2  11962.88037  14083.88037       -2.045   \n",
       "2  2003      1    False     3  11497.88037  11962.88037       -2.402   \n",
       "3  2003      1    False     4  11038.88037  11497.88037       -2.732   \n",
       "4  2003      1    False     5  10456.88037  11038.88037       -3.083   \n",
       "\n",
       "      Usage_ma  \n",
       "0  11962.88037  \n",
       "1  11497.88037  \n",
       "2  11038.88037  \n",
       "3  10456.88037  \n",
       "4  10453.88037  "
      ]
     },
     "execution_count": 25,
     "metadata": {},
     "output_type": "execute_result"
    }
   ],
   "source": [
    "# cleaned data\n",
    "ele_2.head()"
   ]
  },
  {
   "cell_type": "markdown",
   "metadata": {},
   "source": [
    "## Random Search Optimization"
   ]
  },
  {
   "cell_type": "code",
   "execution_count": 26,
   "metadata": {},
   "outputs": [],
   "source": [
    "from sklearn.model_selection import RandomizedSearchCV\n",
    "## function of getting the optimized paramters and score\n",
    "def hypertuning_rscv(est, p_distr, nbr_iter,X,y):\n",
    "    rdmsearch = RandomizedSearchCV(est, param_distributions=p_distr,\n",
    "                                  n_jobs=-1, n_iter=nbr_iter, cv=10)\n",
    "    \n",
    "    #CV = Cross-Validation (here using Stratified KFold CV)\n",
    "    rdmsearch.fit(X,y)\n",
    "    ht_params = rdmsearch.best_params_\n",
    "    ht_score = rdmsearch.best_score_\n",
    "    return ht_params, ht_score"
   ]
  },
  {
   "cell_type": "markdown",
   "metadata": {},
   "source": [
    "### LightGBM hyperparameter optimization"
   ]
  },
  {
   "cell_type": "code",
   "execution_count": null,
   "metadata": {},
   "outputs": [],
   "source": [
    "p_distr = {\n",
    "    'learning_rate': [0.01,0.02,0.03,0.04,0.05],\n",
    "    'num_leaves': [90,200,300,400,500],\n",
    "    'boosting_type' : ['gbdt'],\n",
    "    'objective' : ['regression'],\n",
    "    'max_depth' : [5,6,7,8,9,10,11,12],\n",
    "    'random_state' : [501], \n",
    "    'colsample_bytree' : [0.5,0.7,0.8],\n",
    "    'subsample' : [0.5,0.7,0.8,0.9],\n",
    "    'min_split_gain' : [0.01],\n",
    "    'min_data_in_leaf':[10],\n",
    "    }\n",
    "\n",
    "X = ele_2.loc[:,[\"Year\",\"Month\",\"weekend\",\"Hour\",\"lag1\",\"lag2\",\"temperature\"]]\n",
    "y = ele_2.loc[:,\"Usage_ma\"]\n",
    "est = lgb.LGBMRegressor()\n",
    "nbr_iter = 20\n",
    "\n",
    "random_params, random_score = hypertuning_rscv(est, p_distr, nbr_iter,X,y)"
   ]
  },
  {
   "cell_type": "code",
   "execution_count": null,
   "metadata": {},
   "outputs": [],
   "source": [
    "random_params"
   ]
  },
  {
   "cell_type": "code",
   "execution_count": null,
   "metadata": {},
   "outputs": [],
   "source": [
    "random_score"
   ]
  },
  {
   "cell_type": "markdown",
   "metadata": {},
   "source": [
    "## lightGBM Coss validation"
   ]
  },
  {
   "cell_type": "code",
   "execution_count": 45,
   "metadata": {},
   "outputs": [],
   "source": [
    "predict = []\n",
    "for year in range(2003,2017) :\n",
    "    train_X = ele_2.loc[ele_2[\"Year\"]!= year,[\"Year\",\"Month\",\"weekend\",\"Hour\",\"lag1\",\"lag2\",\"temperature\"]]\n",
    "    train_y = ele_2.loc[ele_2[\"Year\"]!= year,\"Usage_ma\"]\n",
    "    \n",
    "    test_X = ele_2.loc[ele_2[\"Year\"] == year,[\"Year\",\"Month\",\"weekend\",\"Hour\",\"lag1\",\"lag2\",\"temperature\"]]\n",
    "    test_y = ele_2.loc[ele_2[\"Year\"] == year,\"Usage_ma\"]\n",
    "    \n",
    "    \n",
    "    \n",
    "    if year!=2016:\n",
    "        ## indexes that use the information of test data\n",
    "        ind_1 = min(ele_2.loc[ele_2[\"Year\"]==year+1,].index)\n",
    "        ind_2 = min(ele_2.loc[ele_2[\"Year\"]==year+1,].index)+1 \n",
    "        \n",
    "        \n",
    "        train_X.iloc[ind_1, train_X.columns.get_loc('lag1')] = np.nan\n",
    "        train_X.iloc[ind_1, train_X.columns.get_loc('lag2')] = np.nan\n",
    "        \n",
    "        train_X.iloc[ind_1, train_X.columns.get_loc('lag1')] = np.nan\n",
    "        \n",
    "        index_1 = [24*i for i in range(1,6,1)]\n",
    "        \n",
    "        lag1_impu = ele_2.iloc[index_1][\"lag1\"].mean()\n",
    "        lag2_impu = ele_2.iloc[index_1][\"lag2\"].mean()\n",
    "        \n",
    "        ## time series imputation by auto regression\n",
    "        train_X.loc[ind_1,\"lag1\"] = lag1_impu\n",
    "        train_X.loc[ind_1,\"lag2\"] = lag2_impu\n",
    "        train_X.loc[ind_2,\"lag2\"] = lag1_impu\n",
    "    \n",
    "    d_train = lgb.Dataset(train_X, label= train_y)\n",
    "    \n",
    "    params = {}\n",
    "    params['learning_rate']= 0.04\n",
    "    params['boosting_type']='gbdt'\n",
    "    params['objective']='regression'\n",
    "    params['metric']='l2'\n",
    "    params['sub_feature']=0.7\n",
    "    params['num_leaves']= 400\n",
    "    params['min_data']=50\n",
    "    params['max_depth']=12\n",
    "    params['subsample']=0.8\n",
    "    params['min_data_in_leaf']=10\n",
    "    \n",
    "    \n",
    "    clf = lgb.train(params, d_train, 10000)\n",
    "    #Prediction\n",
    "    y_pred=clf.predict(test_X)\n",
    "    predict.append(sum(y_pred)*0.0000036)"
   ]
  },
  {
   "cell_type": "code",
   "execution_count": 46,
   "metadata": {},
   "outputs": [
    {
     "data": {
      "text/plain": [
       "[460.3040547216514,\n",
       " 461.54243559815217,\n",
       " 468.44854927373854,\n",
       " 471.02951732779337,\n",
       " 469.90352298318703,\n",
       " 486.9347075715956,\n",
       " 455.71738221810904,\n",
       " 482.11647390529384,\n",
       " 495.2668489064962,\n",
       " 489.7789653155194,\n",
       " 497.7521367627457,\n",
       " 495.11789766240366,\n",
       " 496.7661885454699,\n",
       " 486.0850293613653]"
      ]
     },
     "execution_count": 46,
     "metadata": {},
     "output_type": "execute_result"
    }
   ],
   "source": [
    "predict"
   ]
  },
  {
   "cell_type": "code",
   "execution_count": 47,
   "metadata": {},
   "outputs": [
    {
     "data": {
      "text/plain": [
       "0.7533637798783478"
      ]
     },
     "execution_count": 47,
     "metadata": {},
     "output_type": "execute_result"
    }
   ],
   "source": [
    "abs(annual_total_1-predict).mean()"
   ]
  },
  {
   "cell_type": "code",
   "execution_count": 42,
   "metadata": {},
   "outputs": [],
   "source": [
    "random_params, random_score = hypertuning_rscv(est, p_distr, nbr_iter,X,y)"
   ]
  },
  {
   "cell_type": "code",
   "execution_count": 43,
   "metadata": {},
   "outputs": [
    {
     "data": {
      "text/plain": [
       "{'subsample': 0.8,\n",
       " 'random_state': 501,\n",
       " 'objective': 'regression',\n",
       " 'num_leaves': 400,\n",
       " 'min_split_gain': 0.01,\n",
       " 'min_data_in_leaf': 10,\n",
       " 'max_depth': 12,\n",
       " 'learning_rate': 0.04,\n",
       " 'colsample_bytree': 0.8,\n",
       " 'boosting_type': 'gbdt'}"
      ]
     },
     "execution_count": 43,
     "metadata": {},
     "output_type": "execute_result"
    }
   ],
   "source": [
    "random_params"
   ]
  },
  {
   "cell_type": "code",
   "execution_count": 44,
   "metadata": {},
   "outputs": [
    {
     "data": {
      "text/plain": [
       "0.994110297065857"
      ]
     },
     "execution_count": 44,
     "metadata": {},
     "output_type": "execute_result"
    }
   ],
   "source": [
    "random_score"
   ]
  },
  {
   "cell_type": "markdown",
   "metadata": {},
   "source": [
    "# XGBOOST Implementation"
   ]
  },
  {
   "cell_type": "markdown",
   "metadata": {},
   "source": [
    "### XGBOOST hyperparameter optimization"
   ]
  },
  {
   "cell_type": "code",
   "execution_count": 44,
   "metadata": {},
   "outputs": [
    {
     "name": "stdout",
     "output_type": "stream",
     "text": [
      "[22:41:34] WARNING: C:/Users/Administrator/workspace/xgboost-win64_release_1.1.0/src/objective/regression_obj.cu:170: reg:linear is now deprecated in favor of reg:squarederror.\n",
      "[22:43:24] WARNING: C:/Users/Administrator/workspace/xgboost-win64_release_1.1.0/src/objective/regression_obj.cu:170: reg:linear is now deprecated in favor of reg:squarederror.\n"
     ]
    }
   ],
   "source": [
    "# A parameter grid for XGBoost\n",
    "p_distr ={\n",
    "        'learning_rate': [0.01,0.02,0.03,0.04,0.05],\n",
    "        'n_estimators': [100*i for i in range(1,11,1)],\n",
    "        'min_child_weight': [1,2,3,4,5,6,7,8,9,10],\n",
    "        'gamma': [0, 1,3,5,7,10],\n",
    "        'subsample': [0.6,0.7,0.8,0.9,1.0],\n",
    "        'colsample_bytree': [0.6,0.7,0.8,0.9,1.0],\n",
    "        'max_depth': [3,4,5,6,7,8,9,10],\n",
    "        'eta': [0.1,0.2]\n",
    "        }\n",
    "\n",
    "X = ele_2.loc[:,[\"Year\",\"Month\",\"weekend\",\"Hour\",\"lag1\",\"lag2\",\"temperature\"]]\n",
    "y = ele_2.loc[:,\"Usage_ma\"]\n",
    "est = xgb.XGBRegressor(objective ='reg:linear')\n",
    "nbr_iter = 20\n",
    "\n",
    "random_params, random_score = hypertuning_rscv(est, p_distr, nbr_iter,X,y)"
   ]
  },
  {
   "cell_type": "code",
   "execution_count": 45,
   "metadata": {},
   "outputs": [
    {
     "data": {
      "text/plain": [
       "{'subsample': 0.8,\n",
       " 'n_estimators': 1000,\n",
       " 'min_child_weight': 2,\n",
       " 'max_depth': 10,\n",
       " 'learning_rate': 0.03,\n",
       " 'gamma': 0,\n",
       " 'eta': 0.1,\n",
       " 'colsample_bytree': 0.8}"
      ]
     },
     "execution_count": 45,
     "metadata": {},
     "output_type": "execute_result"
    }
   ],
   "source": [
    "random_params"
   ]
  },
  {
   "cell_type": "markdown",
   "metadata": {},
   "source": [
    "## XGBOOST Coss validation"
   ]
  },
  {
   "cell_type": "code",
   "execution_count": 47,
   "metadata": {},
   "outputs": [],
   "source": [
    "predict = []\n",
    "for year in range(2003,2017) :\n",
    "    train_X = ele_2.loc[ele_2[\"Year\"]!= year,[\"Year\",\"Month\",\"weekend\",\"Hour\",\"lag1\",\"lag2\",\"temperature\"]]\n",
    "    train_y = ele_2.loc[ele_2[\"Year\"]!= year,\"Usage_ma\"]\n",
    "    \n",
    "    test_X = ele_2.loc[ele_2[\"Year\"] == year,[\"Year\",\"Month\",\"weekend\",\"Hour\",\"lag1\",\"lag2\",\"temperature\"]]\n",
    "    test_y = ele_2.loc[ele_2[\"Year\"] == year,\"Usage_ma\"]\n",
    "    \n",
    "    \n",
    "    \n",
    "    if year!=2016:\n",
    "        ## indexes that use the information of test data\n",
    "        ind_1 = min(ele_2.loc[ele_2[\"Year\"]==year+1,].index)\n",
    "        ind_2 = min(ele_2.loc[ele_2[\"Year\"]==year+1,].index)+1 \n",
    "        \n",
    "        \n",
    "        train_X.iloc[ind_1, train_X.columns.get_loc('lag1')] = np.nan\n",
    "        train_X.iloc[ind_1, train_X.columns.get_loc('lag2')] = np.nan\n",
    "        \n",
    "        train_X.iloc[ind_1, train_X.columns.get_loc('lag1')] = np.nan\n",
    "        \n",
    "        index_1 = [24*i for i in range(1,6,1)]\n",
    "        \n",
    "        lag1_impu = ele_2.iloc[index_1][\"lag1\"].mean()\n",
    "        lag2_impu = ele_2.iloc[index_1][\"lag2\"].mean()\n",
    "        \n",
    "        ## time series imputation by auto regression\n",
    "        train_X.loc[ind_1,\"lag1\"] = lag1_impu\n",
    "        train_X.loc[ind_1,\"lag2\"] = lag2_impu\n",
    "        train_X.loc[ind_2,\"lag2\"] = lag1_impu\n",
    "    \n",
    "    params = {}\n",
    "    params['learning_rate']= 0.05\n",
    "    params['min_child_weight']=8\n",
    "    params['colsample_bytree']=0.8\n",
    "    params['max_depth']= 5\n",
    "    params['subsample']=1.0\n",
    "    params['gamma']=1.5\n",
    "    params['objective']= 'reg:linear'\n",
    "    \n",
    "    \n",
    "    xg_reg = xgb.XGBRegressor(n_estimators =1000,subsample=0.8,min_child_weight= 2,max_depth=10,learning_rate=0.03,gamma= 0,eta= 0.1,colsample_bytree= 0.8)\n",
    "    \n",
    "    xg_reg.fit(train_X,train_y)\n",
    "\n",
    "    #Prediction\n",
    "    y_pred=xg_reg.predict(test_X)\n",
    "    predict.append(sum(y_pred)*0.0000036)"
   ]
  },
  {
   "cell_type": "code",
   "execution_count": 48,
   "metadata": {},
   "outputs": [
    {
     "data": {
      "text/plain": [
       "[460.211384025,\n",
       " 461.4807089460937,\n",
       " 468.6698467722656,\n",
       " 471.6310982800781,\n",
       " 470.35029755742187,\n",
       " 486.7293687046875,\n",
       " 455.4524707453125,\n",
       " 484.1612054648437,\n",
       " 495.9418626597656,\n",
       " 489.8927549285156,\n",
       " 498.61638871523434,\n",
       " 494.9891699625,\n",
       " 495.7046078765625,\n",
       " 485.8632921691406]"
      ]
     },
     "execution_count": 48,
     "metadata": {},
     "output_type": "execute_result"
    }
   ],
   "source": [
    "predict"
   ]
  },
  {
   "cell_type": "code",
   "execution_count": 49,
   "metadata": {},
   "outputs": [
    {
     "data": {
      "text/plain": [
       "0.6505747512654807"
      ]
     },
     "execution_count": 49,
     "metadata": {},
     "output_type": "execute_result"
    }
   ],
   "source": [
    "abs(annual_total_1-predict).mean()"
   ]
  },
  {
   "cell_type": "code",
   "execution_count": null,
   "metadata": {},
   "outputs": [],
   "source": []
  }
 ],
 "metadata": {
  "kernelspec": {
   "display_name": "Python 3",
   "language": "python",
   "name": "python3"
  },
  "language_info": {
   "codemirror_mode": {
    "name": "ipython",
    "version": 3
   },
   "file_extension": ".py",
   "mimetype": "text/x-python",
   "name": "python",
   "nbconvert_exporter": "python",
   "pygments_lexer": "ipython3",
   "version": "3.7.6"
  },
  "toc": {
   "base_numbering": 1,
   "nav_menu": {},
   "number_sections": true,
   "sideBar": true,
   "skip_h1_title": false,
   "title_cell": "Table of Contents",
   "title_sidebar": "Contents",
   "toc_cell": false,
   "toc_position": {},
   "toc_section_display": true,
   "toc_window_display": true
  }
 },
 "nbformat": 4,
 "nbformat_minor": 4
}
